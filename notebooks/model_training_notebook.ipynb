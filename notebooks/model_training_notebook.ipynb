#Rakshita by @binarybardakshat

## Introduction
This notebook demonstrates the process of training our lane detection and object detection models using TensorFlow and Keras.

## Setup
First, let's import the necessary libraries and load the dataset.

```python
import tensorflow as tf
import pandas as pd
import numpy as np
import cv2
from sklearn.model_selection import train_test_split

# Load the dataset
data = pd.read_csv('../data/normalized_sensor_data.csv')

# Define a function to preprocess images
def preprocess_image(image_path):
    image = cv2.imread(image_path)
    image = cv2.resize(image, (128, 128))
    return image

# Preprocess images and labels
images = np.array([preprocess_image(file) for file in data['image_path']])
labels = data['label'].values

# Split the data into training and validation sets
train_images, val_images, train_labels, val_labels = train_test_split(images, labels, test_size=0.2, random_state=42)

